{
 "cells": [
  {
   "cell_type": "raw",
   "metadata": {
    "vscode": {
     "languageId": "raw"
    }
   },
   "source": [
    "---\n",
    "title: \"从零到可用的环境搭建\"\n",
    "format: html\n",
    "---"
   ]
  },
  {
   "cell_type": "markdown",
   "metadata": {},
   "source": [
    "## Step 0. 下载并安装Python\n",
    "\n",
    "打开 [Python 官网](https://www.python.org/downloads/)，下载最新版本的 **Python 3**。"
   ]
  },
  {
   "cell_type": "markdown",
   "metadata": {},
   "source": [
    "## Step 1. 安装 Visual Studio Code\n",
    "\n",
    "1. 打开 [Visual Studio Code 官网](https://code.visualstudio.com/) 下载最新版 VS Code。  \n",
    "2. 安装完成后，启动 VS Code。  \n",
    "3. 熟悉界面主要部分：  \n",
    "   - **Activity Bar（活动栏）**：左侧，用于文件、搜索、扩展等操作  \n",
    "   - **Explorer（资源管理器）**：显示文件和文件夹  \n",
    "   - **Command Palette（命令面板）**：快捷操作，快捷键 `Ctrl/Cmd + Shift + P`  \n",
    "   - **Status Bar（状态栏）**：底部，显示当前环境、报错信息等  \n"
   ]
  },
  {
   "cell_type": "markdown",
   "metadata": {},
   "source": [
    "## Step 2. 安装 VS Code 扩展\n",
    "\n",
    "1. 在 VS Code 左侧点击 **Extensions（扩展，方块图标）**。  \n",
    "2. 在搜索栏中逐个搜索并安装以下扩展：  \n",
    "   - **Python**（ms-python.python）  \n",
    "   - **Jupyter**（ms-toolsai.jupyter）\n",
    "   - （可选）**Quarto**（用于文档渲染）  \n",
    "3. 安装完成后，VS Code 会提示重新加载（Reload），点击即可生效。  \n"
   ]
  },
  {
   "cell_type": "markdown",
   "metadata": {},
   "source": [
    "## Step 3. 创建 Python 虚拟环境 (venv)\n",
    "\n",
    "1. 打开 VS Code → **View > Command Palette**。  \n",
    "2. 输入并选择：`Python: Create Environment` → 选择 **Venv** → 选择 Python 版本。  \n",
    "3. 或者在终端手动创建：  \n",
    "   `python3 -m venv .venv`\n"
   ]
  },
  {
   "cell_type": "markdown",
   "metadata": {},
   "source": [
    "## Step 4. 激活环境并选择内核\n",
    "\n",
    "1. 在 VS Code 中打开一个 Jupyter Notebook（`.ipynb` 文件）。  \n",
    "2. 点击右上角的 **Select Kernel（选择内核）** 按钮。  \n",
    "3. 从列表中选择你刚刚创建的虚拟环境（通常显示为 `.venv`）。  \n",
    "4. 或者通过 **Command Palette** → 输入 `Python: Select Interpreter` → 选择对应的虚拟环境。  \n",
    "5. 运行一个简单的测试代码：  \n",
    "   ```python\n",
    "   import sys\n",
    "   print(\"Hello Jupyter! Python version:\", sys.version)\n",
    "   ```\n"
   ]
  },
  {
   "cell_type": "markdown",
   "metadata": {},
   "source": [
    "## Step 5. 安装常用包\n",
    "\n",
    "1. 在 VS Code 中打开终端：  \n",
    "   - 菜单：**View → Terminal**  \n",
    "   - 或快捷键：`Ctrl + ``（反引号）  \n",
    "\n",
    "2. 确认你已激活虚拟环境（终端前缀应显示 `(.venv)`）。  \n",
    "\n",
    "3. 输入以下命令安装常用科学计算和数据分析库：  \n",
    "   ```bash\n",
    "   pip install numpy pandas scikit-learn matplotlib seaborn\n",
    "   ```\n",
    "4. 安装完成后，可以运行一下代码进行测试：\n",
    "   ```python\n",
    "   import numpy as np\n",
    "   print(\"环境已准备好\")\n",
    "   print(\"Numpy version:\", np.__version__)\n",
    "   ```\n"
   ]
  },
  {
   "cell_type": "markdown",
   "metadata": {},
   "source": [
    "## Step 6. 创建并运行 Jupyter Notebook\n",
    "\n",
    "1. 在 VS Code 中打开命令面板：  \n",
    "   - **View → Command Palette**  \n",
    "   - 输入并选择：`Create: New Jupyter Notebook`  \n",
    "\n",
    "2. 保存文件（建议保存为 `demo.ipynb`）：  \n",
    "   - 快捷键：`Ctrl+S`  \n",
    "   - 菜单：File → Save  \n",
    "\n",
    "3. 在第一个代码单元输入以下代码并运行（快捷键：`Shift+Enter`）：  \n",
    "   ```python\n",
    "   print(\"Hello, Jupyter!\")\n",
    "   ```"
   ]
  },
  {
   "cell_type": "markdown",
   "metadata": {},
   "source": [
    "## Step 7. Jupyter Notebook 基本操作技巧\n",
    "\n",
    "1. **保存 Notebook**  \n",
    "   - 快捷键：`Ctrl+S`  \n",
    "   - 菜单：File → Save  \n",
    "\n",
    "2. **运行单元格**  \n",
    "   - `Shift+Enter`：运行当前单元格并跳到下一个  \n",
    "   - `Ctrl+Enter`：运行当前单元格但不跳转  \n",
    "\n",
    "3. **搜索 Notebook 内容**  \n",
    "   - 快捷键：`Ctrl+F`（macOS 为 `Cmd+F`）  \n",
    "\n",
    "4. **添加单元格**  \n",
    "   - 上方工具栏 → “+ Code” 或 “+ Markdown”  \n",
    "\n",
    "5. **更改单元格类型**  \n",
    "   - 选择单元格 → 右下角下拉菜单切换为 `Code` 或 `Markdown`  \n",
    "\n",
    "---\n",
    "\n",
    "## Step 8. （可选）安装 Quarto\n",
    "\n",
    "1. 访问 [Quarto 官网](https://quarto.org)，下载并安装 Quarto。  \n",
    "2. 在 VS Code 中安装 **Quarto 扩展**。  \n",
    "3. 打开命令面板：  \n",
    "   - **View → Command Palette** → 输入 `Quarto: New Notebook (ipynb)`  \n",
    "   - 创建一个新的 Notebook（`.ipynb` 文件）  \n",
    "\n",
    "4. 渲染文档：  \n",
    "   - 在 Notebook 顶部点击 **Preview**（默认预览为 HTML）  \n",
    "   - 或者在终端输入：  \n",
    "     ```bash\n",
    "     quarto render demo.ipynb --to html\n",
    "     quarto preview demo.ipynb\n",
    "     ```\n",
    "   - 预览结束后，按 `Ctrl+C` 停止运行  \n",
    "\n",
    "---\n",
    "\n",
    "## Step 9. 验证环境是否成功\n",
    "\n",
    "在 Notebook 新建一个代码单元，输入以下内容：  \n",
    "```python\n",
    "import pandas as pd\n",
    "import numpy as np\n",
    "import matplotlib.pyplot as plt\n",
    "import seaborn as sns\n",
    "\n",
    "# 创建一个简单的 DataFrame\n",
    "df = pd.DataFrame({'score': np.random.normal(75, 10, 200)})\n",
    "\n",
    "# 绘制直方图\n",
    "df['score'].hist(bins=20, title=\"Score Histogram\")\n",
    "plt.show()\n",
    "```\n"
   ]
  },
  {
   "cell_type": "code",
   "execution_count": null,
   "metadata": {},
   "outputs": [],
   "source": []
  }
 ],
 "metadata": {
  "kernelspec": {
   "display_name": ".venv",
   "language": "python",
   "name": "python3"
  },
  "language_info": {
   "codemirror_mode": {
    "name": "ipython",
    "version": 3
   },
   "file_extension": ".py",
   "mimetype": "text/x-python",
   "name": "python",
   "nbconvert_exporter": "python",
   "pygments_lexer": "ipython3",
   "version": "3.8.18"
  }
 },
 "nbformat": 4,
 "nbformat_minor": 2
}
